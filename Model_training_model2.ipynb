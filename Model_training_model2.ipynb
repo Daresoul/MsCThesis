{
 "cells": [
  {
   "cell_type": "code",
   "execution_count": 1,
   "metadata": {},
   "outputs": [
    {
     "name": "stdout",
     "output_type": "stream",
     "text": [
      "Requirement already satisfied: transformers[torch] in c:\\users\\nicol\\appdata\\local\\programs\\python\\python310\\lib\\site-packages (4.34.1)\n",
      "Requirement already satisfied: filelock in c:\\users\\nicol\\appdata\\local\\programs\\python\\python310\\lib\\site-packages (from transformers[torch]) (3.13.0)\n",
      "Requirement already satisfied: huggingface-hub<1.0,>=0.16.4 in c:\\users\\nicol\\appdata\\local\\programs\\python\\python310\\lib\\site-packages (from transformers[torch]) (0.17.3)\n",
      "Requirement already satisfied: numpy>=1.17 in c:\\users\\nicol\\appdata\\local\\programs\\python\\python310\\lib\\site-packages (from transformers[torch]) (1.23.5)\n",
      "Requirement already satisfied: packaging>=20.0 in c:\\users\\nicol\\appdata\\local\\programs\\python\\python310\\lib\\site-packages (from transformers[torch]) (22.0)\n",
      "Requirement already satisfied: pyyaml>=5.1 in c:\\users\\nicol\\appdata\\local\\programs\\python\\python310\\lib\\site-packages (from transformers[torch]) (6.0)\n",
      "Requirement already satisfied: regex!=2019.12.17 in c:\\users\\nicol\\appdata\\local\\programs\\python\\python310\\lib\\site-packages (from transformers[torch]) (2023.10.3)\n",
      "Requirement already satisfied: requests in c:\\users\\nicol\\appdata\\local\\programs\\python\\python310\\lib\\site-packages (from transformers[torch]) (2.28.2)\n",
      "Requirement already satisfied: tokenizers<0.15,>=0.14 in c:\\users\\nicol\\appdata\\local\\programs\\python\\python310\\lib\\site-packages (from transformers[torch]) (0.14.1)\n",
      "Requirement already satisfied: safetensors>=0.3.1 in c:\\users\\nicol\\appdata\\local\\programs\\python\\python310\\lib\\site-packages (from transformers[torch]) (0.4.0)\n",
      "Requirement already satisfied: tqdm>=4.27 in c:\\users\\nicol\\appdata\\local\\programs\\python\\python310\\lib\\site-packages (from transformers[torch]) (4.66.1)\n",
      "Requirement already satisfied: torch!=1.12.0,>=1.10 in c:\\users\\nicol\\appdata\\local\\programs\\python\\python310\\lib\\site-packages (from transformers[torch]) (2.1.0+cu121)\n",
      "Requirement already satisfied: accelerate>=0.20.3 in c:\\users\\nicol\\appdata\\local\\programs\\python\\python310\\lib\\site-packages (from transformers[torch]) (0.24.1)\n",
      "Requirement already satisfied: psutil in c:\\users\\nicol\\appdata\\local\\programs\\python\\python310\\lib\\site-packages (from accelerate>=0.20.3->transformers[torch]) (5.9.4)\n",
      "Requirement already satisfied: fsspec in c:\\users\\nicol\\appdata\\local\\programs\\python\\python310\\lib\\site-packages (from huggingface-hub<1.0,>=0.16.4->transformers[torch]) (2023.10.0)\n",
      "Requirement already satisfied: typing-extensions>=3.7.4.3 in c:\\users\\nicol\\appdata\\local\\programs\\python\\python310\\lib\\site-packages (from huggingface-hub<1.0,>=0.16.4->transformers[torch]) (4.11.0)\n",
      "Requirement already satisfied: sympy in c:\\users\\nicol\\appdata\\local\\programs\\python\\python310\\lib\\site-packages (from torch!=1.12.0,>=1.10->transformers[torch]) (1.12)\n",
      "Requirement already satisfied: networkx in c:\\users\\nicol\\appdata\\local\\programs\\python\\python310\\lib\\site-packages (from torch!=1.12.0,>=1.10->transformers[torch]) (2.8.8)\n",
      "Requirement already satisfied: jinja2 in c:\\users\\nicol\\appdata\\local\\programs\\python\\python310\\lib\\site-packages (from torch!=1.12.0,>=1.10->transformers[torch]) (3.1.2)\n",
      "Requirement already satisfied: colorama in c:\\users\\nicol\\appdata\\local\\programs\\python\\python310\\lib\\site-packages (from tqdm>=4.27->transformers[torch]) (0.4.6)\n",
      "Requirement already satisfied: charset-normalizer<4,>=2 in c:\\users\\nicol\\appdata\\local\\programs\\python\\python310\\lib\\site-packages (from requests->transformers[torch]) (3.1.0)\n",
      "Requirement already satisfied: idna<4,>=2.5 in c:\\users\\nicol\\appdata\\local\\programs\\python\\python310\\lib\\site-packages (from requests->transformers[torch]) (3.3)\n",
      "Requirement already satisfied: urllib3<1.27,>=1.21.1 in c:\\users\\nicol\\appdata\\local\\programs\\python\\python310\\lib\\site-packages (from requests->transformers[torch]) (1.26.15)\n",
      "Requirement already satisfied: certifi>=2017.4.17 in c:\\users\\nicol\\appdata\\local\\programs\\python\\python310\\lib\\site-packages (from requests->transformers[torch]) (2022.12.7)\n",
      "Requirement already satisfied: MarkupSafe>=2.0 in c:\\users\\nicol\\appdata\\local\\programs\\python\\python310\\lib\\site-packages (from jinja2->torch!=1.12.0,>=1.10->transformers[torch]) (2.1.2)\n",
      "Requirement already satisfied: mpmath>=0.19 in c:\\users\\nicol\\appdata\\local\\programs\\python\\python310\\lib\\site-packages (from sympy->torch!=1.12.0,>=1.10->transformers[torch]) (1.3.0)\n"
     ]
    },
    {
     "name": "stderr",
     "output_type": "stream",
     "text": [
      "\n",
      "[notice] A new release of pip is available: 23.3.1 -> 24.0\n",
      "[notice] To update, run: C:\\Users\\nicol\\AppData\\Local\\Programs\\Python\\Python310\\python.exe -m pip install --upgrade pip\n"
     ]
    },
    {
     "name": "stdout",
     "output_type": "stream",
     "text": [
      "Requirement already satisfied: datasets in c:\\users\\nicol\\appdata\\local\\programs\\python\\python310\\lib\\site-packages (2.14.6)\n",
      "Requirement already satisfied: numpy>=1.17 in c:\\users\\nicol\\appdata\\local\\programs\\python\\python310\\lib\\site-packages (from datasets) (1.23.5)\n",
      "Requirement already satisfied: pyarrow>=8.0.0 in c:\\users\\nicol\\appdata\\local\\programs\\python\\python310\\lib\\site-packages (from datasets) (13.0.0)\n",
      "Requirement already satisfied: dill<0.3.8,>=0.3.0 in c:\\users\\nicol\\appdata\\local\\programs\\python\\python310\\lib\\site-packages (from datasets) (0.3.7)\n",
      "Requirement already satisfied: pandas in c:\\users\\nicol\\appdata\\local\\programs\\python\\python310\\lib\\site-packages (from datasets) (2.1.2)\n",
      "Requirement already satisfied: requests>=2.19.0 in c:\\users\\nicol\\appdata\\local\\programs\\python\\python310\\lib\\site-packages (from datasets) (2.28.2)\n",
      "Requirement already satisfied: tqdm>=4.62.1 in c:\\users\\nicol\\appdata\\local\\programs\\python\\python310\\lib\\site-packages (from datasets) (4.66.1)\n",
      "Requirement already satisfied: xxhash in c:\\users\\nicol\\appdata\\local\\programs\\python\\python310\\lib\\site-packages (from datasets) (3.4.1)\n",
      "Requirement already satisfied: multiprocess in c:\\users\\nicol\\appdata\\local\\programs\\python\\python310\\lib\\site-packages (from datasets) (0.70.15)\n",
      "Requirement already satisfied: fsspec<=2023.10.0,>=2023.1.0 in c:\\users\\nicol\\appdata\\local\\programs\\python\\python310\\lib\\site-packages (from fsspec[http]<=2023.10.0,>=2023.1.0->datasets) (2023.10.0)\n",
      "Requirement already satisfied: aiohttp in c:\\users\\nicol\\appdata\\local\\programs\\python\\python310\\lib\\site-packages (from datasets) (3.7.4.post0)\n",
      "Requirement already satisfied: huggingface-hub<1.0.0,>=0.14.0 in c:\\users\\nicol\\appdata\\local\\programs\\python\\python310\\lib\\site-packages (from datasets) (0.17.3)\n",
      "Requirement already satisfied: packaging in c:\\users\\nicol\\appdata\\local\\programs\\python\\python310\\lib\\site-packages (from datasets) (22.0)\n",
      "Requirement already satisfied: pyyaml>=5.1 in c:\\users\\nicol\\appdata\\local\\programs\\python\\python310\\lib\\site-packages (from datasets) (6.0)\n",
      "Requirement already satisfied: attrs>=17.3.0 in c:\\users\\nicol\\appdata\\local\\programs\\python\\python310\\lib\\site-packages (from aiohttp->datasets) (21.4.0)\n",
      "Requirement already satisfied: chardet<5.0,>=2.0 in c:\\users\\nicol\\appdata\\local\\programs\\python\\python310\\lib\\site-packages (from aiohttp->datasets) (4.0.0)\n",
      "Requirement already satisfied: multidict<7.0,>=4.5 in c:\\users\\nicol\\appdata\\local\\programs\\python\\python310\\lib\\site-packages (from aiohttp->datasets) (6.0.2)\n",
      "Requirement already satisfied: async-timeout<4.0,>=3.0 in c:\\users\\nicol\\appdata\\local\\programs\\python\\python310\\lib\\site-packages (from aiohttp->datasets) (3.0.1)\n",
      "Requirement already satisfied: yarl<2.0,>=1.0 in c:\\users\\nicol\\appdata\\local\\programs\\python\\python310\\lib\\site-packages (from aiohttp->datasets) (1.7.2)\n",
      "Requirement already satisfied: typing-extensions>=3.6.5 in c:\\users\\nicol\\appdata\\local\\programs\\python\\python310\\lib\\site-packages (from aiohttp->datasets) (4.11.0)\n",
      "Requirement already satisfied: filelock in c:\\users\\nicol\\appdata\\local\\programs\\python\\python310\\lib\\site-packages (from huggingface-hub<1.0.0,>=0.14.0->datasets) (3.13.0)\n",
      "Requirement already satisfied: charset-normalizer<4,>=2 in c:\\users\\nicol\\appdata\\local\\programs\\python\\python310\\lib\\site-packages (from requests>=2.19.0->datasets) (3.1.0)\n",
      "Requirement already satisfied: idna<4,>=2.5 in c:\\users\\nicol\\appdata\\local\\programs\\python\\python310\\lib\\site-packages (from requests>=2.19.0->datasets) (3.3)\n",
      "Requirement already satisfied: urllib3<1.27,>=1.21.1 in c:\\users\\nicol\\appdata\\local\\programs\\python\\python310\\lib\\site-packages (from requests>=2.19.0->datasets) (1.26.15)\n",
      "Requirement already satisfied: certifi>=2017.4.17 in c:\\users\\nicol\\appdata\\local\\programs\\python\\python310\\lib\\site-packages (from requests>=2.19.0->datasets) (2022.12.7)\n",
      "Requirement already satisfied: colorama in c:\\users\\nicol\\appdata\\local\\programs\\python\\python310\\lib\\site-packages (from tqdm>=4.62.1->datasets) (0.4.6)\n",
      "Requirement already satisfied: python-dateutil>=2.8.2 in c:\\users\\nicol\\appdata\\local\\programs\\python\\python310\\lib\\site-packages (from pandas->datasets) (2.8.2)\n",
      "Requirement already satisfied: pytz>=2020.1 in c:\\users\\nicol\\appdata\\local\\programs\\python\\python310\\lib\\site-packages (from pandas->datasets) (2023.3.post1)\n",
      "Requirement already satisfied: tzdata>=2022.1 in c:\\users\\nicol\\appdata\\local\\programs\\python\\python310\\lib\\site-packages (from pandas->datasets) (2023.3)\n",
      "Requirement already satisfied: six>=1.5 in c:\\users\\nicol\\appdata\\local\\programs\\python\\python310\\lib\\site-packages (from python-dateutil>=2.8.2->pandas->datasets) (1.16.0)\n"
     ]
    },
    {
     "name": "stderr",
     "output_type": "stream",
     "text": [
      "\n",
      "[notice] A new release of pip is available: 23.3.1 -> 24.0\n",
      "[notice] To update, run: C:\\Users\\nicol\\AppData\\Local\\Programs\\Python\\Python310\\python.exe -m pip install --upgrade pip\n"
     ]
    },
    {
     "name": "stdout",
     "output_type": "stream",
     "text": [
      "Requirement already satisfied: seqeval in c:\\users\\nicol\\appdata\\local\\programs\\python\\python310\\lib\\site-packages (1.2.2)\n",
      "Requirement already satisfied: numpy>=1.14.0 in c:\\users\\nicol\\appdata\\local\\programs\\python\\python310\\lib\\site-packages (from seqeval) (1.23.5)\n",
      "Requirement already satisfied: scikit-learn>=0.21.3 in c:\\users\\nicol\\appdata\\local\\programs\\python\\python310\\lib\\site-packages (from seqeval) (1.2.2)\n",
      "Requirement already satisfied: scipy>=1.3.2 in c:\\users\\nicol\\appdata\\local\\programs\\python\\python310\\lib\\site-packages (from scikit-learn>=0.21.3->seqeval) (1.9.3)\n",
      "Requirement already satisfied: joblib>=1.1.1 in c:\\users\\nicol\\appdata\\local\\programs\\python\\python310\\lib\\site-packages (from scikit-learn>=0.21.3->seqeval) (1.2.0)\n",
      "Requirement already satisfied: threadpoolctl>=2.0.0 in c:\\users\\nicol\\appdata\\local\\programs\\python\\python310\\lib\\site-packages (from scikit-learn>=0.21.3->seqeval) (3.1.0)\n"
     ]
    },
    {
     "name": "stderr",
     "output_type": "stream",
     "text": [
      "\n",
      "[notice] A new release of pip is available: 23.3.1 -> 24.0\n",
      "[notice] To update, run: C:\\Users\\nicol\\AppData\\Local\\Programs\\Python\\Python310\\python.exe -m pip install --upgrade pip\n"
     ]
    },
    {
     "name": "stdout",
     "output_type": "stream",
     "text": [
      "Requirement already satisfied: scikit-learn in c:\\users\\nicol\\appdata\\local\\programs\\python\\python310\\lib\\site-packages (1.2.2)\n",
      "Requirement already satisfied: numpy>=1.17.3 in c:\\users\\nicol\\appdata\\local\\programs\\python\\python310\\lib\\site-packages (from scikit-learn) (1.23.5)\n",
      "Requirement already satisfied: scipy>=1.3.2 in c:\\users\\nicol\\appdata\\local\\programs\\python\\python310\\lib\\site-packages (from scikit-learn) (1.9.3)\n",
      "Requirement already satisfied: joblib>=1.1.1 in c:\\users\\nicol\\appdata\\local\\programs\\python\\python310\\lib\\site-packages (from scikit-learn) (1.2.0)\n",
      "Requirement already satisfied: threadpoolctl>=2.0.0 in c:\\users\\nicol\\appdata\\local\\programs\\python\\python310\\lib\\site-packages (from scikit-learn) (3.1.0)\n"
     ]
    },
    {
     "name": "stderr",
     "output_type": "stream",
     "text": [
      "\n",
      "[notice] A new release of pip is available: 23.3.1 -> 24.0\n",
      "[notice] To update, run: C:\\Users\\nicol\\AppData\\Local\\Programs\\Python\\Python310\\python.exe -m pip install --upgrade pip\n"
     ]
    },
    {
     "name": "stdout",
     "output_type": "stream",
     "text": [
      "Requirement already satisfied: evaluate in c:\\users\\nicol\\appdata\\local\\programs\\python\\python310\\lib\\site-packages (0.4.1)\n",
      "Requirement already satisfied: datasets>=2.0.0 in c:\\users\\nicol\\appdata\\local\\programs\\python\\python310\\lib\\site-packages (from evaluate) (2.14.6)\n",
      "Requirement already satisfied: numpy>=1.17 in c:\\users\\nicol\\appdata\\local\\programs\\python\\python310\\lib\\site-packages (from evaluate) (1.23.5)\n",
      "Requirement already satisfied: dill in c:\\users\\nicol\\appdata\\local\\programs\\python\\python310\\lib\\site-packages (from evaluate) (0.3.7)\n",
      "Requirement already satisfied: pandas in c:\\users\\nicol\\appdata\\local\\programs\\python\\python310\\lib\\site-packages (from evaluate) (2.1.2)\n",
      "Requirement already satisfied: requests>=2.19.0 in c:\\users\\nicol\\appdata\\local\\programs\\python\\python310\\lib\\site-packages (from evaluate) (2.28.2)\n",
      "Requirement already satisfied: tqdm>=4.62.1 in c:\\users\\nicol\\appdata\\local\\programs\\python\\python310\\lib\\site-packages (from evaluate) (4.66.1)\n",
      "Requirement already satisfied: xxhash in c:\\users\\nicol\\appdata\\local\\programs\\python\\python310\\lib\\site-packages (from evaluate) (3.4.1)\n",
      "Requirement already satisfied: multiprocess in c:\\users\\nicol\\appdata\\local\\programs\\python\\python310\\lib\\site-packages (from evaluate) (0.70.15)\n",
      "Requirement already satisfied: fsspec>=2021.05.0 in c:\\users\\nicol\\appdata\\local\\programs\\python\\python310\\lib\\site-packages (from fsspec[http]>=2021.05.0->evaluate) (2023.10.0)\n",
      "Requirement already satisfied: huggingface-hub>=0.7.0 in c:\\users\\nicol\\appdata\\local\\programs\\python\\python310\\lib\\site-packages (from evaluate) (0.17.3)\n",
      "Requirement already satisfied: packaging in c:\\users\\nicol\\appdata\\local\\programs\\python\\python310\\lib\\site-packages (from evaluate) (22.0)\n",
      "Requirement already satisfied: responses<0.19 in c:\\users\\nicol\\appdata\\local\\programs\\python\\python310\\lib\\site-packages (from evaluate) (0.18.0)\n",
      "Requirement already satisfied: pyarrow>=8.0.0 in c:\\users\\nicol\\appdata\\local\\programs\\python\\python310\\lib\\site-packages (from datasets>=2.0.0->evaluate) (13.0.0)\n",
      "Requirement already satisfied: aiohttp in c:\\users\\nicol\\appdata\\local\\programs\\python\\python310\\lib\\site-packages (from datasets>=2.0.0->evaluate) (3.7.4.post0)\n",
      "Requirement already satisfied: pyyaml>=5.1 in c:\\users\\nicol\\appdata\\local\\programs\\python\\python310\\lib\\site-packages (from datasets>=2.0.0->evaluate) (6.0)\n",
      "Requirement already satisfied: filelock in c:\\users\\nicol\\appdata\\local\\programs\\python\\python310\\lib\\site-packages (from huggingface-hub>=0.7.0->evaluate) (3.13.0)\n",
      "Requirement already satisfied: typing-extensions>=3.7.4.3 in c:\\users\\nicol\\appdata\\local\\programs\\python\\python310\\lib\\site-packages (from huggingface-hub>=0.7.0->evaluate) (4.11.0)\n",
      "Requirement already satisfied: charset-normalizer<4,>=2 in c:\\users\\nicol\\appdata\\local\\programs\\python\\python310\\lib\\site-packages (from requests>=2.19.0->evaluate) (3.1.0)\n",
      "Requirement already satisfied: idna<4,>=2.5 in c:\\users\\nicol\\appdata\\local\\programs\\python\\python310\\lib\\site-packages (from requests>=2.19.0->evaluate) (3.3)\n",
      "Requirement already satisfied: urllib3<1.27,>=1.21.1 in c:\\users\\nicol\\appdata\\local\\programs\\python\\python310\\lib\\site-packages (from requests>=2.19.0->evaluate) (1.26.15)\n",
      "Requirement already satisfied: certifi>=2017.4.17 in c:\\users\\nicol\\appdata\\local\\programs\\python\\python310\\lib\\site-packages (from requests>=2.19.0->evaluate) (2022.12.7)\n",
      "Requirement already satisfied: colorama in c:\\users\\nicol\\appdata\\local\\programs\\python\\python310\\lib\\site-packages (from tqdm>=4.62.1->evaluate) (0.4.6)\n",
      "Requirement already satisfied: python-dateutil>=2.8.2 in c:\\users\\nicol\\appdata\\local\\programs\\python\\python310\\lib\\site-packages (from pandas->evaluate) (2.8.2)\n",
      "Requirement already satisfied: pytz>=2020.1 in c:\\users\\nicol\\appdata\\local\\programs\\python\\python310\\lib\\site-packages (from pandas->evaluate) (2023.3.post1)\n",
      "Requirement already satisfied: tzdata>=2022.1 in c:\\users\\nicol\\appdata\\local\\programs\\python\\python310\\lib\\site-packages (from pandas->evaluate) (2023.3)\n",
      "Requirement already satisfied: attrs>=17.3.0 in c:\\users\\nicol\\appdata\\local\\programs\\python\\python310\\lib\\site-packages (from aiohttp->datasets>=2.0.0->evaluate) (21.4.0)\n",
      "Requirement already satisfied: chardet<5.0,>=2.0 in c:\\users\\nicol\\appdata\\local\\programs\\python\\python310\\lib\\site-packages (from aiohttp->datasets>=2.0.0->evaluate) (4.0.0)\n",
      "Requirement already satisfied: multidict<7.0,>=4.5 in c:\\users\\nicol\\appdata\\local\\programs\\python\\python310\\lib\\site-packages (from aiohttp->datasets>=2.0.0->evaluate) (6.0.2)\n",
      "Requirement already satisfied: async-timeout<4.0,>=3.0 in c:\\users\\nicol\\appdata\\local\\programs\\python\\python310\\lib\\site-packages (from aiohttp->datasets>=2.0.0->evaluate) (3.0.1)\n",
      "Requirement already satisfied: yarl<2.0,>=1.0 in c:\\users\\nicol\\appdata\\local\\programs\\python\\python310\\lib\\site-packages (from aiohttp->datasets>=2.0.0->evaluate) (1.7.2)\n",
      "Requirement already satisfied: six>=1.5 in c:\\users\\nicol\\appdata\\local\\programs\\python\\python310\\lib\\site-packages (from python-dateutil>=2.8.2->pandas->evaluate) (1.16.0)\n"
     ]
    },
    {
     "name": "stderr",
     "output_type": "stream",
     "text": [
      "\n",
      "[notice] A new release of pip is available: 23.3.1 -> 24.0\n",
      "[notice] To update, run: C:\\Users\\nicol\\AppData\\Local\\Programs\\Python\\Python310\\python.exe -m pip install --upgrade pip\n"
     ]
    }
   ],
   "source": [
    "!pip3 install \"transformers[torch]\"\n",
    "!pip3 install datasets\n",
    "!pip3 install seqeval\n",
    "!pip3 install scikit-learn\n",
    "!pip3 install evaluate"
   ]
  },
  {
   "cell_type": "code",
   "execution_count": 1,
   "metadata": {
    "ExecuteTime": {
     "end_time": "2024-05-15T00:58:11.823840Z",
     "start_time": "2024-05-15T00:58:09.333316Z"
    }
   },
   "outputs": [],
   "source": [
    "from transformers import BertTokenizerFast, BertForTokenClassification, Trainer, TrainingArguments\n",
    "from datasets import load_from_disk\n",
    "import torch\n",
    "import lib\n",
    "import numpy as np\n",
    "import evaluate\n",
    "import seqeval\n",
    "from transformers import GenerationConfig\n",
    "\n",
    "from collections import defaultdict"
   ]
  },
  {
   "cell_type": "code",
   "execution_count": 2,
   "metadata": {
    "ExecuteTime": {
     "end_time": "2024-05-15T00:58:11.859353Z",
     "start_time": "2024-05-15T00:58:11.825041Z"
    }
   },
   "outputs": [],
   "source": [
    "train_dataset = load_from_disk('full_valid_dataset_sentence-76975/train')\n",
    "test_dataset = load_from_disk('full_valid_dataset_sentence-76975/test')\n",
    "eval_dataset = load_from_disk('full_valid_dataset_sentence-76975/eval')\n",
    "model_name = 'bert-large-uncased'"
   ]
  },
  {
   "cell_type": "code",
   "execution_count": 3,
   "metadata": {
    "ExecuteTime": {
     "end_time": "2024-05-15T00:58:13.815887Z",
     "start_time": "2024-05-15T00:58:11.860229Z"
    }
   },
   "outputs": [
    {
     "name": "stderr",
     "output_type": "stream",
     "text": [
      "Some weights of BertForTokenClassification were not initialized from the model checkpoint at bert-large-uncased and are newly initialized: ['classifier.weight', 'classifier.bias']\n",
      "You should probably TRAIN this model on a down-stream task to be able to use it for predictions and inference.\n"
     ]
    },
    {
     "data": {
      "text/plain": [
       "Embedding(30525, 1024)"
      ]
     },
     "execution_count": 3,
     "metadata": {},
     "output_type": "execute_result"
    }
   ],
   "source": [
    "num_labels = len(lib.id2label)\n",
    "max_length = 64\n",
    "\n",
    "gen_config = GenerationConfig(max_length=max_length)\n",
    "\n",
    "tokenizer = BertTokenizerFast.from_pretrained(model_name)\n",
    "model = BertForTokenClassification.from_pretrained(model_name, num_labels=num_labels)\n",
    "\n",
    "new_tokens = ['[MATH]', '[DISPLAY]', '[ITALIC]']\n",
    "num_added_tokens = tokenizer.add_tokens(new_tokens)\n",
    "\n",
    "model.resize_token_embeddings(len(tokenizer))"
   ]
  },
  {
   "cell_type": "code",
   "execution_count": 4,
   "metadata": {
    "ExecuteTime": {
     "end_time": "2024-05-15T00:58:16.056864Z",
     "start_time": "2024-05-15T00:58:13.817219Z"
    }
   },
   "outputs": [],
   "source": [
    "def retokenize(row):\n",
    "    tokens = ['[CLS]'] + row['tokens'][:max_length - 2] + ['[SEP]']\n",
    "    annotations = ['O'] + row['spacy'][:max_length - 2] + ['O']\n",
    "    remaining = max_length - (len(tokens))\n",
    "    input_ids = tokenizer.convert_tokens_to_ids(tokens + ['[PAD]'] * remaining)\n",
    "    \n",
    "    row['input_ids'] = input_ids\n",
    "    row['attention_mask'] = [1 if token_id != tokenizer.pad_token_id else 0 for token_id in input_ids]\n",
    "    row['labels'] = [lib.label2id[label] for label in annotations] + [-100] * remaining\n",
    "    return row\n",
    "    \n",
    "train_dataset = train_dataset.map(retokenize)\n",
    "test_dataset = test_dataset.map(retokenize)\n",
    "eval_dataset = eval_dataset.map(retokenize)"
   ]
  },
  {
   "cell_type": "code",
   "execution_count": 5,
   "metadata": {},
   "outputs": [
    {
     "data": {
      "text/plain": [
       "Dataset({\n",
       "    features: ['file_name', 'title', 'tokens', 'math_index', 'nltk_annotate', 'spacy', 'is_valid', 'labels', '__index_level_0__', 'input_ids', 'attention_mask'],\n",
       "    num_rows: 61580\n",
       "})"
      ]
     },
     "execution_count": 5,
     "metadata": {},
     "output_type": "execute_result"
    }
   ],
   "source": [
    "train_dataset"
   ]
  },
  {
   "cell_type": "code",
   "execution_count": 13,
   "metadata": {},
   "outputs": [],
   "source": [
    "metric = evaluate.load('seqeval')\n",
    "\n",
    "get_correct_name_from_semi = defaultdict(str, {\n",
    "    \"DJ\": \"ADJ\",\n",
    "    \"DP\": \"ADP\",\n",
    "    \"DV\": \"ADV\",\n",
    "    \"UX\": \"AUX\",\n",
    "    \"ONJ\": \"CONJ\",\n",
    "    \"CONJ\": \"CCONJ\",\n",
    "    \"ET\": \"DET\",\n",
    "    \"NTJ\": \"INTJ\",\n",
    "    \"OUN\": \"NOUN\",\n",
    "    \"UM\": \"NUM\",\n",
    "    \"ART\": \"PART\",\n",
    "    \"RON\": \"PRON\",\n",
    "    \"ROPN\": \"PROPN\",\n",
    "    \"UNCT\": \"PUNCT\",\n",
    "    \"CONJ\": \"SCONJ\",\n",
    "    \"YM\": \"SYM\",\n",
    "    \"ERB\": \"VERB\",\n",
    "    \"_\": \"X\",\n",
    "    \"PACE\": \"SPACE\"\n",
    "})\n",
    "\n",
    "def get_standard_dict():\n",
    "    d = {}\n",
    "    \n",
    "    for key, value in get_correct_name_from_semi.items():\n",
    "        d[value] = 0.0\n",
    "    \n",
    "    return d\n",
    "\n",
    "\n",
    "def compute_metrics(p, all_metrics=False):\n",
    "    predictions, labels = p\n",
    "    predictions = np.argmax(predictions, axis=2)\n",
    "\n",
    "    true_predictions = [\n",
    "        [lib.id2label[p] for (p, l) in zip(prediction, label) if l != -100]\n",
    "        for prediction, label in zip(predictions, labels)\n",
    "    ]\n",
    "    true_labels = [\n",
    "        [lib.id2label[l] for (p, l) in zip(prediction, label) if l != -100]\n",
    "        for prediction, label in zip(predictions, labels)\n",
    "    ]\n",
    "\n",
    "    results = metric.compute(predictions=true_predictions, references=true_labels)\n",
    "\n",
    "    return results\n",
    "\n",
    "    res = {} #get_standard_dict()\n",
    "\n",
    "    res['f1'] = results['overall_f1']\n",
    "    res['accuracy'] = results['overall_accuracy']\n",
    "    res['precision'] = results['overall_precision']\n",
    "    res['recall'] = results['overall_recall']\n",
    "\n",
    "    for key, value in results.items():\n",
    "        if key not in ['overall_precision', 'overall_f1', 'overall_recall', 'overall_accuracy']:\n",
    "            res[get_correct_name_from_semi[key]] = value['f1']\n",
    "\n",
    "    return res\n",
    "\n"
   ]
  },
  {
   "cell_type": "code",
   "execution_count": 7,
   "metadata": {},
   "outputs": [
    {
     "name": "stdout",
     "output_type": "stream",
     "text": [
      "Using cuda\n"
     ]
    }
   ],
   "source": [
    "if torch.backends.mps.is_available():\n",
    "    print(\"Using mps\")\n",
    "    mps_device = torch.device(\"mps\")\n",
    "    model.to(mps_device)\n",
    "\n",
    "if torch.cuda.is_available():\n",
    "    print(\"Using cuda\")\n",
    "    cuda_device = torch.device(\"cuda\")\n",
    "    model.to(cuda_device)"
   ]
  },
  {
   "cell_type": "code",
   "execution_count": 8,
   "metadata": {},
   "outputs": [],
   "source": [
    "\n",
    "\n",
    "training_args = TrainingArguments(\n",
    "    output_dir='./results',\n",
    "    num_train_epochs=20,\n",
    "    per_device_train_batch_size=64,\n",
    "    per_device_eval_batch_size=64,\n",
    "    warmup_steps=1900,\n",
    "    weight_decay=0.013,\n",
    "    label_smoothing_factor=0.009,\n",
    "    learning_rate=0.0001,\n",
    "    logging_dir='./logs',\n",
    "    logging_steps=10,\n",
    "    evaluation_strategy='epoch',\n",
    "    load_best_model_at_end=True,\n",
    "    metric_for_best_model='f1',\n",
    "    save_strategy='epoch'\n",
    ")\n",
    "\n",
    "trainer = Trainer(\n",
    "    model=model,\n",
    "    args=training_args,\n",
    "    train_dataset=train_dataset,\n",
    "    eval_dataset=test_dataset,\n",
    "    compute_metrics=compute_metrics\n",
    ")"
   ]
  },
  {
   "cell_type": "code",
   "execution_count": 9,
   "metadata": {},
   "outputs": [],
   "source": [
    "import warnings\n",
    "warnings.filterwarnings('ignore')"
   ]
  },
  {
   "cell_type": "code",
   "execution_count": null,
   "metadata": {},
   "outputs": [
    {
     "name": "stdout",
     "output_type": "stream",
     "text": [
      "Starting training\n"
     ]
    },
    {
     "data": {
      "text/html": [
       "\n",
       "    <div>\n",
       "      \n",
       "      <progress value='1647' max='19260' style='width:300px; height:20px; vertical-align: middle;'></progress>\n",
       "      [ 1647/19260 3:12:35 < 34:22:03, 0.14 it/s, Epoch 1.71/20]\n",
       "    </div>\n",
       "    <table border=\"1\" class=\"dataframe\">\n",
       "  <thead>\n",
       " <tr style=\"text-align: left;\">\n",
       "      <th>Epoch</th>\n",
       "      <th>Training Loss</th>\n",
       "      <th>Validation Loss</th>\n",
       "      <th>F1</th>\n",
       "      <th>Accuracy</th>\n",
       "      <th>Precision</th>\n",
       "      <th>Recall</th>\n",
       "      <th>Part</th>\n",
       "      <th>Sconj</th>\n",
       "      <th>Adj</th>\n",
       "      <th>Adp</th>\n",
       "      <th>Adv</th>\n",
       "      <th>Verb</th>\n",
       "      <th>Det</th>\n",
       "      <th>Intj</th>\n",
       "      <th>Noun</th>\n",
       "      <th>Pron</th>\n",
       "      <th>Propn</th>\n",
       "      <th>Num</th>\n",
       "      <th>Punct</th>\n",
       "      <th>Aux</th>\n",
       "      <th>Sym</th>\n",
       "    </tr>\n",
       "  </thead>\n",
       "  <tbody>\n",
       "    <tr>\n",
       "      <td>1</td>\n",
       "      <td>0.200400</td>\n",
       "      <td>0.183582</td>\n",
       "      <td>0.952831</td>\n",
       "      <td>0.963141</td>\n",
       "      <td>0.952590</td>\n",
       "      <td>0.953072</td>\n",
       "      <td>0.967295</td>\n",
       "      <td>0.979952</td>\n",
       "      <td>0.880320</td>\n",
       "      <td>0.988607</td>\n",
       "      <td>0.950524</td>\n",
       "      <td>0.959732</td>\n",
       "      <td>0.997120</td>\n",
       "      <td>0.529801</td>\n",
       "      <td>0.921254</td>\n",
       "      <td>0.976248</td>\n",
       "      <td>0.504295</td>\n",
       "      <td>0.913177</td>\n",
       "      <td>0.997211</td>\n",
       "      <td>0.993482</td>\n",
       "      <td>0.613333</td>\n",
       "    </tr>\n",
       "  </tbody>\n",
       "</table><p>"
      ],
      "text/plain": [
       "<IPython.core.display.HTML object>"
      ]
     },
     "metadata": {},
     "output_type": "display_data"
    }
   ],
   "source": [
    "print(\"Starting training\")\n",
    "trainer.train()\n",
    "print(\"Ending training\")"
   ]
  },
  {
   "cell_type": "code",
   "execution_count": null,
   "metadata": {},
   "outputs": [],
   "source": [
    "model.save_pretrained('./trained_bert_model_full_data_modified')"
   ]
  },
  {
   "cell_type": "code",
   "execution_count": 10,
   "metadata": {},
   "outputs": [
    {
     "name": "stdout",
     "output_type": "stream",
     "text": [
      "Using cuda\n"
     ]
    }
   ],
   "source": [
    "num_labels = len(lib.id2label)\n",
    "max_length = 64\n",
    "\n",
    "gen_config = GenerationConfig(max_length=max_length)\n",
    "\n",
    "tokenizer = BertTokenizerFast.from_pretrained(model_name)\n",
    "model = BertForTokenClassification.from_pretrained(\"trained_bert_model_full_data_modified\", num_labels=num_labels)\n",
    "\n",
    "new_tokens = ['[MATH]', '[DISPLAY]', '[ITALIC]']\n",
    "num_added_tokens = tokenizer.add_tokens(new_tokens)\n",
    "\n",
    "model.resize_token_embeddings(len(tokenizer))\n",
    "\n",
    "if torch.backends.mps.is_available():\n",
    "    print(\"Using mps\")\n",
    "    mps_device = torch.device(\"mps\")\n",
    "    model.to(mps_device)\n",
    "\n",
    "if torch.cuda.is_available():\n",
    "    print(\"Using cuda\")\n",
    "    cuda_device = torch.device(\"cuda\")\n",
    "    model.to(cuda_device)\n",
    "\n",
    "\n",
    "\n",
    "\n",
    "training_args = TrainingArguments(\n",
    "    output_dir='./results',\n",
    "    num_train_epochs=20,\n",
    "    per_device_train_batch_size=64,\n",
    "    per_device_eval_batch_size=64,\n",
    "    warmup_steps=1900,\n",
    "    weight_decay=0.013,\n",
    "    label_smoothing_factor=0.009,\n",
    "    learning_rate=0.0001,\n",
    "    logging_dir='./logs',\n",
    "    logging_steps=10,\n",
    "    evaluation_strategy='epoch',\n",
    "    load_best_model_at_end=True,\n",
    "    metric_for_best_model='f1',\n",
    "    save_strategy='epoch'\n",
    ")\n",
    "\n",
    "trainer = Trainer(\n",
    "    model=model,\n",
    "    args=training_args,\n",
    "    train_dataset=train_dataset,\n",
    "    eval_dataset=test_dataset,\n",
    "    compute_metrics=compute_metrics\n",
    ")"
   ]
  },
  {
   "cell_type": "code",
   "execution_count": null,
   "metadata": {},
   "outputs": [],
   "source": [
    "model.save_pretrained('./trained_bert_model_full_data_modified')"
   ]
  },
  {
   "cell_type": "code",
   "execution_count": 14,
   "metadata": {},
   "outputs": [
    {
     "data": {
      "text/html": [
       "\n",
       "    <div>\n",
       "      \n",
       "      <progress value='1' max='73' style='width:300px; height:20px; vertical-align: middle;'></progress>\n",
       "      [ 1/73 : < :]\n",
       "    </div>\n",
       "    "
      ],
      "text/plain": [
       "<IPython.core.display.HTML object>"
      ]
     },
     "metadata": {},
     "output_type": "display_data"
    }
   ],
   "source": [
    "predictions = trainer.predict(eval_dataset)\n",
    "\n",
    "model_predictions = predictions.predictions\n",
    "\n",
    "true_label_ids = predictions.label_ids\n",
    "\n",
    "p = (model_predictions, true_label_ids)\n",
    "all_metrics = compute_metrics(p, True)"
   ]
  },
  {
   "cell_type": "code",
   "execution_count": 16,
   "metadata": {},
   "outputs": [
    {
     "data": {
      "text/plain": [
       "{'ART': {'precision': 0.9916820702402958,\n",
       "  'recall': 0.9781221513217867,\n",
       "  'f1': 0.9848554382744379,\n",
       "  'number': 1097},\n",
       " 'CONJ': {'precision': 0.9928168291431503,\n",
       "  'recall': 0.9933264887063655,\n",
       "  'f1': 0.9930715935334873,\n",
       "  'number': 3896},\n",
       " 'DJ': {'precision': 0.9427351500690695,\n",
       "  'recall': 0.9537542878922627,\n",
       "  'f1': 0.9482127068333965,\n",
       "  'number': 7871},\n",
       " 'DP': {'precision': 0.9954564666103127,\n",
       "  'recall': 0.995772117112356,\n",
       "  'f1': 0.9956142668428004,\n",
       "  'number': 9461},\n",
       " 'DV': {'precision': 0.9843071786310518,\n",
       "  'recall': 0.980705256154358,\n",
       "  'f1': 0.9825029161806367,\n",
       "  'number': 3006},\n",
       " 'ERB': {'precision': 0.9848256834712816,\n",
       "  'recall': 0.9812570286142697,\n",
       "  'f1': 0.9830381172936096,\n",
       "  'number': 8003},\n",
       " 'ET': {'precision': 0.9992404513888888,\n",
       "  'recall': 0.9990236493816446,\n",
       "  'f1': 0.9991320386242811,\n",
       "  'number': 9218},\n",
       " 'NTJ': {'precision': 0.8780487804878049,\n",
       "  'recall': 0.8372093023255814,\n",
       "  'f1': 0.8571428571428572,\n",
       "  'number': 43},\n",
       " 'OUN': {'precision': 0.963732807006723,\n",
       "  'recall': 0.9658177772283347,\n",
       "  'f1': 0.9647741656633014,\n",
       "  'number': 16178},\n",
       " 'RON': {'precision': 0.9936988027725268,\n",
       "  'recall': 0.9918238993710692,\n",
       "  'f1': 0.9927604658482846,\n",
       "  'number': 3180},\n",
       " 'ROPN': {'precision': 0.8352941176470589,\n",
       "  'recall': 0.7597276264591439,\n",
       "  'f1': 0.7957208354559347,\n",
       "  'number': 1028},\n",
       " 'UM': {'precision': 0.9776536312849162,\n",
       "  'recall': 0.9615384615384616,\n",
       "  'f1': 0.9695290858725762,\n",
       "  'number': 910},\n",
       " 'UNCT': {'precision': 0.9983577712609971,\n",
       "  'recall': 0.9976556089555738,\n",
       "  'f1': 0.9980065666041276,\n",
       "  'number': 8531},\n",
       " 'UX': {'precision': 0.997364953886693,\n",
       "  'recall': 0.997364953886693,\n",
       "  'f1': 0.997364953886693,\n",
       "  'number': 4554},\n",
       " 'YM': {'precision': 1.0,\n",
       "  'recall': 0.8888888888888888,\n",
       "  'f1': 0.9411764705882353,\n",
       "  'number': 9},\n",
       " 'overall_precision': 0.9801915853230565,\n",
       " 'overall_recall': 0.9795804377476132,\n",
       " 'overall_f1': 0.979885916243292,\n",
       " 'overall_accuracy': 0.9844826327191296}"
      ]
     },
     "execution_count": 16,
     "metadata": {},
     "output_type": "execute_result"
    }
   ],
   "source": [
    "all_metrics"
   ]
  },
  {
   "cell_type": "code",
   "execution_count": null,
   "metadata": {},
   "outputs": [],
   "source": []
  }
 ],
 "metadata": {
  "kernelspec": {
   "display_name": "Python 3 (ipykernel)",
   "language": "python",
   "name": "python3"
  },
  "language_info": {
   "codemirror_mode": {
    "name": "ipython",
    "version": 3
   },
   "file_extension": ".py",
   "mimetype": "text/x-python",
   "name": "python",
   "nbconvert_exporter": "python",
   "pygments_lexer": "ipython3",
   "version": "3.10.4"
  }
 },
 "nbformat": 4,
 "nbformat_minor": 1
}
