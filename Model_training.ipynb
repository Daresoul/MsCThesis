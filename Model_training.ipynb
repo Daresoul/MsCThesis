{
 "cells": [
  {
   "cell_type": "code",
   "execution_count": 1,
   "metadata": {
    "pycharm": {
     "is_executing": true
    }
   },
   "outputs": [
    {
     "name": "stdout",
     "output_type": "stream",
     "text": [
      "Requirement already satisfied: transformers[torch] in c:\\users\\nicol\\appdata\\local\\programs\\python\\python310\\lib\\site-packages (4.34.1)\n",
      "Requirement already satisfied: filelock in c:\\users\\nicol\\appdata\\local\\programs\\python\\python310\\lib\\site-packages (from transformers[torch]) (3.13.0)\n",
      "Requirement already satisfied: huggingface-hub<1.0,>=0.16.4 in c:\\users\\nicol\\appdata\\local\\programs\\python\\python310\\lib\\site-packages (from transformers[torch]) (0.17.3)\n",
      "Requirement already satisfied: numpy>=1.17 in c:\\users\\nicol\\appdata\\local\\programs\\python\\python310\\lib\\site-packages (from transformers[torch]) (1.23.5)\n",
      "Requirement already satisfied: packaging>=20.0 in c:\\users\\nicol\\appdata\\local\\programs\\python\\python310\\lib\\site-packages (from transformers[torch]) (22.0)\n",
      "Requirement already satisfied: pyyaml>=5.1 in c:\\users\\nicol\\appdata\\local\\programs\\python\\python310\\lib\\site-packages (from transformers[torch]) (6.0)\n",
      "Requirement already satisfied: regex!=2019.12.17 in c:\\users\\nicol\\appdata\\local\\programs\\python\\python310\\lib\\site-packages (from transformers[torch]) (2023.10.3)\n",
      "Requirement already satisfied: requests in c:\\users\\nicol\\appdata\\local\\programs\\python\\python310\\lib\\site-packages (from transformers[torch]) (2.28.2)\n",
      "Requirement already satisfied: tokenizers<0.15,>=0.14 in c:\\users\\nicol\\appdata\\local\\programs\\python\\python310\\lib\\site-packages (from transformers[torch]) (0.14.1)\n",
      "Requirement already satisfied: safetensors>=0.3.1 in c:\\users\\nicol\\appdata\\local\\programs\\python\\python310\\lib\\site-packages (from transformers[torch]) (0.4.0)\n",
      "Requirement already satisfied: tqdm>=4.27 in c:\\users\\nicol\\appdata\\local\\programs\\python\\python310\\lib\\site-packages (from transformers[torch]) (4.66.1)\n",
      "Requirement already satisfied: torch!=1.12.0,>=1.10 in c:\\users\\nicol\\appdata\\local\\programs\\python\\python310\\lib\\site-packages (from transformers[torch]) (2.1.0+cu121)\n",
      "Requirement already satisfied: accelerate>=0.20.3 in c:\\users\\nicol\\appdata\\local\\programs\\python\\python310\\lib\\site-packages (from transformers[torch]) (0.24.1)\n",
      "Requirement already satisfied: psutil in c:\\users\\nicol\\appdata\\local\\programs\\python\\python310\\lib\\site-packages (from accelerate>=0.20.3->transformers[torch]) (5.9.4)\n",
      "Requirement already satisfied: fsspec in c:\\users\\nicol\\appdata\\local\\programs\\python\\python310\\lib\\site-packages (from huggingface-hub<1.0,>=0.16.4->transformers[torch]) (2023.10.0)\n",
      "Requirement already satisfied: typing-extensions>=3.7.4.3 in c:\\users\\nicol\\appdata\\local\\programs\\python\\python310\\lib\\site-packages (from huggingface-hub<1.0,>=0.16.4->transformers[torch]) (4.11.0)\n",
      "Requirement already satisfied: sympy in c:\\users\\nicol\\appdata\\local\\programs\\python\\python310\\lib\\site-packages (from torch!=1.12.0,>=1.10->transformers[torch]) (1.12)\n",
      "Requirement already satisfied: networkx in c:\\users\\nicol\\appdata\\local\\programs\\python\\python310\\lib\\site-packages (from torch!=1.12.0,>=1.10->transformers[torch]) (2.8.8)\n",
      "Requirement already satisfied: jinja2 in c:\\users\\nicol\\appdata\\local\\programs\\python\\python310\\lib\\site-packages (from torch!=1.12.0,>=1.10->transformers[torch]) (3.1.2)\n",
      "Requirement already satisfied: colorama in c:\\users\\nicol\\appdata\\local\\programs\\python\\python310\\lib\\site-packages (from tqdm>=4.27->transformers[torch]) (0.4.6)\n",
      "Requirement already satisfied: charset-normalizer<4,>=2 in c:\\users\\nicol\\appdata\\local\\programs\\python\\python310\\lib\\site-packages (from requests->transformers[torch]) (3.1.0)\n",
      "Requirement already satisfied: idna<4,>=2.5 in c:\\users\\nicol\\appdata\\local\\programs\\python\\python310\\lib\\site-packages (from requests->transformers[torch]) (3.3)\n",
      "Requirement already satisfied: urllib3<1.27,>=1.21.1 in c:\\users\\nicol\\appdata\\local\\programs\\python\\python310\\lib\\site-packages (from requests->transformers[torch]) (1.26.15)\n",
      "Requirement already satisfied: certifi>=2017.4.17 in c:\\users\\nicol\\appdata\\local\\programs\\python\\python310\\lib\\site-packages (from requests->transformers[torch]) (2022.12.7)\n",
      "Requirement already satisfied: MarkupSafe>=2.0 in c:\\users\\nicol\\appdata\\local\\programs\\python\\python310\\lib\\site-packages (from jinja2->torch!=1.12.0,>=1.10->transformers[torch]) (2.1.2)\n",
      "Requirement already satisfied: mpmath>=0.19 in c:\\users\\nicol\\appdata\\local\\programs\\python\\python310\\lib\\site-packages (from sympy->torch!=1.12.0,>=1.10->transformers[torch]) (1.3.0)\n"
     ]
    },
    {
     "name": "stderr",
     "output_type": "stream",
     "text": [
      "\n",
      "[notice] A new release of pip is available: 23.3.1 -> 24.0\n",
      "[notice] To update, run: C:\\Users\\nicol\\AppData\\Local\\Programs\\Python\\Python310\\python.exe -m pip install --upgrade pip\n"
     ]
    },
    {
     "name": "stdout",
     "output_type": "stream",
     "text": [
      "Requirement already satisfied: datasets in c:\\users\\nicol\\appdata\\local\\programs\\python\\python310\\lib\\site-packages (2.14.6)\n",
      "Requirement already satisfied: numpy>=1.17 in c:\\users\\nicol\\appdata\\local\\programs\\python\\python310\\lib\\site-packages (from datasets) (1.23.5)\n",
      "Requirement already satisfied: pyarrow>=8.0.0 in c:\\users\\nicol\\appdata\\local\\programs\\python\\python310\\lib\\site-packages (from datasets) (13.0.0)\n",
      "Requirement already satisfied: dill<0.3.8,>=0.3.0 in c:\\users\\nicol\\appdata\\local\\programs\\python\\python310\\lib\\site-packages (from datasets) (0.3.7)\n",
      "Requirement already satisfied: pandas in c:\\users\\nicol\\appdata\\local\\programs\\python\\python310\\lib\\site-packages (from datasets) (2.1.2)\n",
      "Requirement already satisfied: requests>=2.19.0 in c:\\users\\nicol\\appdata\\local\\programs\\python\\python310\\lib\\site-packages (from datasets) (2.28.2)\n",
      "Requirement already satisfied: tqdm>=4.62.1 in c:\\users\\nicol\\appdata\\local\\programs\\python\\python310\\lib\\site-packages (from datasets) (4.66.1)\n",
      "Requirement already satisfied: xxhash in c:\\users\\nicol\\appdata\\local\\programs\\python\\python310\\lib\\site-packages (from datasets) (3.4.1)\n",
      "Requirement already satisfied: multiprocess in c:\\users\\nicol\\appdata\\local\\programs\\python\\python310\\lib\\site-packages (from datasets) (0.70.15)\n",
      "Requirement already satisfied: fsspec<=2023.10.0,>=2023.1.0 in c:\\users\\nicol\\appdata\\local\\programs\\python\\python310\\lib\\site-packages (from fsspec[http]<=2023.10.0,>=2023.1.0->datasets) (2023.10.0)\n",
      "Requirement already satisfied: aiohttp in c:\\users\\nicol\\appdata\\local\\programs\\python\\python310\\lib\\site-packages (from datasets) (3.7.4.post0)\n",
      "Requirement already satisfied: huggingface-hub<1.0.0,>=0.14.0 in c:\\users\\nicol\\appdata\\local\\programs\\python\\python310\\lib\\site-packages (from datasets) (0.17.3)\n",
      "Requirement already satisfied: packaging in c:\\users\\nicol\\appdata\\local\\programs\\python\\python310\\lib\\site-packages (from datasets) (22.0)\n",
      "Requirement already satisfied: pyyaml>=5.1 in c:\\users\\nicol\\appdata\\local\\programs\\python\\python310\\lib\\site-packages (from datasets) (6.0)\n",
      "Requirement already satisfied: attrs>=17.3.0 in c:\\users\\nicol\\appdata\\local\\programs\\python\\python310\\lib\\site-packages (from aiohttp->datasets) (21.4.0)\n",
      "Requirement already satisfied: chardet<5.0,>=2.0 in c:\\users\\nicol\\appdata\\local\\programs\\python\\python310\\lib\\site-packages (from aiohttp->datasets) (4.0.0)\n",
      "Requirement already satisfied: multidict<7.0,>=4.5 in c:\\users\\nicol\\appdata\\local\\programs\\python\\python310\\lib\\site-packages (from aiohttp->datasets) (6.0.2)\n",
      "Requirement already satisfied: async-timeout<4.0,>=3.0 in c:\\users\\nicol\\appdata\\local\\programs\\python\\python310\\lib\\site-packages (from aiohttp->datasets) (3.0.1)\n",
      "Requirement already satisfied: yarl<2.0,>=1.0 in c:\\users\\nicol\\appdata\\local\\programs\\python\\python310\\lib\\site-packages (from aiohttp->datasets) (1.7.2)\n",
      "Requirement already satisfied: typing-extensions>=3.6.5 in c:\\users\\nicol\\appdata\\local\\programs\\python\\python310\\lib\\site-packages (from aiohttp->datasets) (4.11.0)\n",
      "Requirement already satisfied: filelock in c:\\users\\nicol\\appdata\\local\\programs\\python\\python310\\lib\\site-packages (from huggingface-hub<1.0.0,>=0.14.0->datasets) (3.13.0)\n",
      "Requirement already satisfied: charset-normalizer<4,>=2 in c:\\users\\nicol\\appdata\\local\\programs\\python\\python310\\lib\\site-packages (from requests>=2.19.0->datasets) (3.1.0)\n",
      "Requirement already satisfied: idna<4,>=2.5 in c:\\users\\nicol\\appdata\\local\\programs\\python\\python310\\lib\\site-packages (from requests>=2.19.0->datasets) (3.3)\n",
      "Requirement already satisfied: urllib3<1.27,>=1.21.1 in c:\\users\\nicol\\appdata\\local\\programs\\python\\python310\\lib\\site-packages (from requests>=2.19.0->datasets) (1.26.15)\n",
      "Requirement already satisfied: certifi>=2017.4.17 in c:\\users\\nicol\\appdata\\local\\programs\\python\\python310\\lib\\site-packages (from requests>=2.19.0->datasets) (2022.12.7)\n",
      "Requirement already satisfied: colorama in c:\\users\\nicol\\appdata\\local\\programs\\python\\python310\\lib\\site-packages (from tqdm>=4.62.1->datasets) (0.4.6)\n",
      "Requirement already satisfied: python-dateutil>=2.8.2 in c:\\users\\nicol\\appdata\\local\\programs\\python\\python310\\lib\\site-packages (from pandas->datasets) (2.8.2)\n",
      "Requirement already satisfied: pytz>=2020.1 in c:\\users\\nicol\\appdata\\local\\programs\\python\\python310\\lib\\site-packages (from pandas->datasets) (2023.3.post1)\n",
      "Requirement already satisfied: tzdata>=2022.1 in c:\\users\\nicol\\appdata\\local\\programs\\python\\python310\\lib\\site-packages (from pandas->datasets) (2023.3)\n",
      "Requirement already satisfied: six>=1.5 in c:\\users\\nicol\\appdata\\local\\programs\\python\\python310\\lib\\site-packages (from python-dateutil>=2.8.2->pandas->datasets) (1.16.0)\n"
     ]
    },
    {
     "name": "stderr",
     "output_type": "stream",
     "text": [
      "\n",
      "[notice] A new release of pip is available: 23.3.1 -> 24.0\n",
      "[notice] To update, run: C:\\Users\\nicol\\AppData\\Local\\Programs\\Python\\Python310\\python.exe -m pip install --upgrade pip\n"
     ]
    },
    {
     "name": "stdout",
     "output_type": "stream",
     "text": [
      "Requirement already satisfied: seqeval in c:\\users\\nicol\\appdata\\local\\programs\\python\\python310\\lib\\site-packages (1.2.2)\n",
      "Requirement already satisfied: numpy>=1.14.0 in c:\\users\\nicol\\appdata\\local\\programs\\python\\python310\\lib\\site-packages (from seqeval) (1.23.5)\n",
      "Requirement already satisfied: scikit-learn>=0.21.3 in c:\\users\\nicol\\appdata\\local\\programs\\python\\python310\\lib\\site-packages (from seqeval) (1.2.2)\n",
      "Requirement already satisfied: scipy>=1.3.2 in c:\\users\\nicol\\appdata\\local\\programs\\python\\python310\\lib\\site-packages (from scikit-learn>=0.21.3->seqeval) (1.9.3)\n",
      "Requirement already satisfied: joblib>=1.1.1 in c:\\users\\nicol\\appdata\\local\\programs\\python\\python310\\lib\\site-packages (from scikit-learn>=0.21.3->seqeval) (1.2.0)\n",
      "Requirement already satisfied: threadpoolctl>=2.0.0 in c:\\users\\nicol\\appdata\\local\\programs\\python\\python310\\lib\\site-packages (from scikit-learn>=0.21.3->seqeval) (3.1.0)\n"
     ]
    },
    {
     "name": "stderr",
     "output_type": "stream",
     "text": [
      "\n",
      "[notice] A new release of pip is available: 23.3.1 -> 24.0\n",
      "[notice] To update, run: C:\\Users\\nicol\\AppData\\Local\\Programs\\Python\\Python310\\python.exe -m pip install --upgrade pip\n"
     ]
    },
    {
     "name": "stdout",
     "output_type": "stream",
     "text": [
      "Requirement already satisfied: scikit-learn in c:\\users\\nicol\\appdata\\local\\programs\\python\\python310\\lib\\site-packages (1.2.2)\n",
      "Requirement already satisfied: numpy>=1.17.3 in c:\\users\\nicol\\appdata\\local\\programs\\python\\python310\\lib\\site-packages (from scikit-learn) (1.23.5)\n",
      "Requirement already satisfied: scipy>=1.3.2 in c:\\users\\nicol\\appdata\\local\\programs\\python\\python310\\lib\\site-packages (from scikit-learn) (1.9.3)\n",
      "Requirement already satisfied: joblib>=1.1.1 in c:\\users\\nicol\\appdata\\local\\programs\\python\\python310\\lib\\site-packages (from scikit-learn) (1.2.0)\n",
      "Requirement already satisfied: threadpoolctl>=2.0.0 in c:\\users\\nicol\\appdata\\local\\programs\\python\\python310\\lib\\site-packages (from scikit-learn) (3.1.0)\n"
     ]
    },
    {
     "name": "stderr",
     "output_type": "stream",
     "text": [
      "\n",
      "[notice] A new release of pip is available: 23.3.1 -> 24.0\n",
      "[notice] To update, run: C:\\Users\\nicol\\AppData\\Local\\Programs\\Python\\Python310\\python.exe -m pip install --upgrade pip\n"
     ]
    },
    {
     "name": "stdout",
     "output_type": "stream",
     "text": [
      "Requirement already satisfied: evaluate in c:\\users\\nicol\\appdata\\local\\programs\\python\\python310\\lib\\site-packages (0.4.1)\n",
      "Requirement already satisfied: datasets>=2.0.0 in c:\\users\\nicol\\appdata\\local\\programs\\python\\python310\\lib\\site-packages (from evaluate) (2.14.6)\n",
      "Requirement already satisfied: numpy>=1.17 in c:\\users\\nicol\\appdata\\local\\programs\\python\\python310\\lib\\site-packages (from evaluate) (1.23.5)\n",
      "Requirement already satisfied: dill in c:\\users\\nicol\\appdata\\local\\programs\\python\\python310\\lib\\site-packages (from evaluate) (0.3.7)\n",
      "Requirement already satisfied: pandas in c:\\users\\nicol\\appdata\\local\\programs\\python\\python310\\lib\\site-packages (from evaluate) (2.1.2)\n",
      "Requirement already satisfied: requests>=2.19.0 in c:\\users\\nicol\\appdata\\local\\programs\\python\\python310\\lib\\site-packages (from evaluate) (2.28.2)\n",
      "Requirement already satisfied: tqdm>=4.62.1 in c:\\users\\nicol\\appdata\\local\\programs\\python\\python310\\lib\\site-packages (from evaluate) (4.66.1)\n",
      "Requirement already satisfied: xxhash in c:\\users\\nicol\\appdata\\local\\programs\\python\\python310\\lib\\site-packages (from evaluate) (3.4.1)\n",
      "Requirement already satisfied: multiprocess in c:\\users\\nicol\\appdata\\local\\programs\\python\\python310\\lib\\site-packages (from evaluate) (0.70.15)\n",
      "Requirement already satisfied: fsspec>=2021.05.0 in c:\\users\\nicol\\appdata\\local\\programs\\python\\python310\\lib\\site-packages (from fsspec[http]>=2021.05.0->evaluate) (2023.10.0)\n",
      "Requirement already satisfied: huggingface-hub>=0.7.0 in c:\\users\\nicol\\appdata\\local\\programs\\python\\python310\\lib\\site-packages (from evaluate) (0.17.3)\n",
      "Requirement already satisfied: packaging in c:\\users\\nicol\\appdata\\local\\programs\\python\\python310\\lib\\site-packages (from evaluate) (22.0)\n",
      "Requirement already satisfied: responses<0.19 in c:\\users\\nicol\\appdata\\local\\programs\\python\\python310\\lib\\site-packages (from evaluate) (0.18.0)\n",
      "Requirement already satisfied: pyarrow>=8.0.0 in c:\\users\\nicol\\appdata\\local\\programs\\python\\python310\\lib\\site-packages (from datasets>=2.0.0->evaluate) (13.0.0)\n",
      "Requirement already satisfied: aiohttp in c:\\users\\nicol\\appdata\\local\\programs\\python\\python310\\lib\\site-packages (from datasets>=2.0.0->evaluate) (3.7.4.post0)\n",
      "Requirement already satisfied: pyyaml>=5.1 in c:\\users\\nicol\\appdata\\local\\programs\\python\\python310\\lib\\site-packages (from datasets>=2.0.0->evaluate) (6.0)\n",
      "Requirement already satisfied: filelock in c:\\users\\nicol\\appdata\\local\\programs\\python\\python310\\lib\\site-packages (from huggingface-hub>=0.7.0->evaluate) (3.13.0)\n",
      "Requirement already satisfied: typing-extensions>=3.7.4.3 in c:\\users\\nicol\\appdata\\local\\programs\\python\\python310\\lib\\site-packages (from huggingface-hub>=0.7.0->evaluate) (4.11.0)\n",
      "Requirement already satisfied: charset-normalizer<4,>=2 in c:\\users\\nicol\\appdata\\local\\programs\\python\\python310\\lib\\site-packages (from requests>=2.19.0->evaluate) (3.1.0)\n",
      "Requirement already satisfied: idna<4,>=2.5 in c:\\users\\nicol\\appdata\\local\\programs\\python\\python310\\lib\\site-packages (from requests>=2.19.0->evaluate) (3.3)\n",
      "Requirement already satisfied: urllib3<1.27,>=1.21.1 in c:\\users\\nicol\\appdata\\local\\programs\\python\\python310\\lib\\site-packages (from requests>=2.19.0->evaluate) (1.26.15)\n",
      "Requirement already satisfied: certifi>=2017.4.17 in c:\\users\\nicol\\appdata\\local\\programs\\python\\python310\\lib\\site-packages (from requests>=2.19.0->evaluate) (2022.12.7)\n",
      "Requirement already satisfied: colorama in c:\\users\\nicol\\appdata\\local\\programs\\python\\python310\\lib\\site-packages (from tqdm>=4.62.1->evaluate) (0.4.6)\n",
      "Requirement already satisfied: python-dateutil>=2.8.2 in c:\\users\\nicol\\appdata\\local\\programs\\python\\python310\\lib\\site-packages (from pandas->evaluate) (2.8.2)\n",
      "Requirement already satisfied: pytz>=2020.1 in c:\\users\\nicol\\appdata\\local\\programs\\python\\python310\\lib\\site-packages (from pandas->evaluate) (2023.3.post1)\n",
      "Requirement already satisfied: tzdata>=2022.1 in c:\\users\\nicol\\appdata\\local\\programs\\python\\python310\\lib\\site-packages (from pandas->evaluate) (2023.3)\n",
      "Requirement already satisfied: attrs>=17.3.0 in c:\\users\\nicol\\appdata\\local\\programs\\python\\python310\\lib\\site-packages (from aiohttp->datasets>=2.0.0->evaluate) (21.4.0)\n",
      "Requirement already satisfied: chardet<5.0,>=2.0 in c:\\users\\nicol\\appdata\\local\\programs\\python\\python310\\lib\\site-packages (from aiohttp->datasets>=2.0.0->evaluate) (4.0.0)\n",
      "Requirement already satisfied: multidict<7.0,>=4.5 in c:\\users\\nicol\\appdata\\local\\programs\\python\\python310\\lib\\site-packages (from aiohttp->datasets>=2.0.0->evaluate) (6.0.2)\n",
      "Requirement already satisfied: async-timeout<4.0,>=3.0 in c:\\users\\nicol\\appdata\\local\\programs\\python\\python310\\lib\\site-packages (from aiohttp->datasets>=2.0.0->evaluate) (3.0.1)\n",
      "Requirement already satisfied: yarl<2.0,>=1.0 in c:\\users\\nicol\\appdata\\local\\programs\\python\\python310\\lib\\site-packages (from aiohttp->datasets>=2.0.0->evaluate) (1.7.2)\n",
      "Requirement already satisfied: six>=1.5 in c:\\users\\nicol\\appdata\\local\\programs\\python\\python310\\lib\\site-packages (from python-dateutil>=2.8.2->pandas->evaluate) (1.16.0)\n"
     ]
    },
    {
     "name": "stderr",
     "output_type": "stream",
     "text": [
      "\n",
      "[notice] A new release of pip is available: 23.3.1 -> 24.0\n",
      "[notice] To update, run: C:\\Users\\nicol\\AppData\\Local\\Programs\\Python\\Python310\\python.exe -m pip install --upgrade pip\n"
     ]
    }
   ],
   "source": [
    "!pip3 install \"transformers[torch]\"\n",
    "!pip3 install datasets\n",
    "!pip3 install seqeval\n",
    "!pip3 install scikit-learn\n",
    "!pip3 install evaluate"
   ]
  },
  {
   "cell_type": "code",
   "execution_count": 2,
   "metadata": {
    "ExecuteTime": {
     "end_time": "2024-05-15T00:58:11.823840Z",
     "start_time": "2024-05-15T00:58:09.333316Z"
    }
   },
   "outputs": [],
   "source": [
    "from transformers import BertTokenizerFast, BertForTokenClassification, Trainer, TrainingArguments\n",
    "from datasets import load_from_disk\n",
    "import torch\n",
    "import lib\n",
    "import numpy as np\n",
    "import evaluate\n",
    "import seqeval\n",
    "from transformers import GenerationConfig"
   ]
  },
  {
   "cell_type": "code",
   "execution_count": 3,
   "metadata": {
    "ExecuteTime": {
     "end_time": "2024-05-15T00:58:11.859353Z",
     "start_time": "2024-05-15T00:58:11.825041Z"
    }
   },
   "outputs": [],
   "source": [
    "train_dataset = load_from_disk('full_valid_dataset_sentence-81583/train')\n",
    "test_dataset = load_from_disk('full_valid_dataset_sentence-81583/test')\n",
    "eval_dataset = load_from_disk('full_valid_dataset_sentence-81583/eval')\n",
    "model_name = 'bert-large-uncased'"
   ]
  },
  {
   "cell_type": "code",
   "execution_count": 4,
   "metadata": {
    "ExecuteTime": {
     "end_time": "2024-05-15T00:58:13.815887Z",
     "start_time": "2024-05-15T00:58:11.860229Z"
    }
   },
   "outputs": [
    {
     "name": "stderr",
     "output_type": "stream",
     "text": [
      "Some weights of BertForTokenClassification were not initialized from the model checkpoint at bert-large-uncased and are newly initialized: ['classifier.bias', 'classifier.weight']\n",
      "You should probably TRAIN this model on a down-stream task to be able to use it for predictions and inference.\n"
     ]
    },
    {
     "data": {
      "text/plain": [
       "Embedding(30525, 1024)"
      ]
     },
     "execution_count": 4,
     "metadata": {},
     "output_type": "execute_result"
    }
   ],
   "source": [
    "num_labels = len(lib.id2label)\n",
    "max_length = 64\n",
    "\n",
    "gen_config = GenerationConfig(max_length=max_length)\n",
    "\n",
    "tokenizer = BertTokenizerFast.from_pretrained(model_name)\n",
    "model = BertForTokenClassification.from_pretrained(model_name, num_labels=num_labels)\n",
    "\n",
    "new_tokens = ['[MATH]', '[DISPLAY]', '[ITALIC]']\n",
    "num_added_tokens = tokenizer.add_tokens(new_tokens)\n",
    "\n",
    "model.resize_token_embeddings(len(tokenizer))"
   ]
  },
  {
   "cell_type": "code",
   "execution_count": 5,
   "metadata": {
    "ExecuteTime": {
     "end_time": "2024-05-15T00:58:16.056864Z",
     "start_time": "2024-05-15T00:58:13.817219Z"
    }
   },
   "outputs": [],
   "source": [
    "def retokenize(row):\n",
    "    tokens = ['[CLS]'] + row['tokens'][:max_length - 2] + ['[SEP]']\n",
    "    annotations = ['O'] + row['spacy'][:max_length - 2] + ['O']\n",
    "    remaining = max_length - (len(tokens))\n",
    "    input_ids = tokenizer.convert_tokens_to_ids(tokens + ['[PAD]'] * remaining)\n",
    "    \n",
    "    row['input_ids'] = input_ids\n",
    "    row['attention_mask'] = [1 if token_id != tokenizer.pad_token_id else 0 for token_id in input_ids]\n",
    "    row['labels'] = [lib.label2id[label] for label in annotations] + [-100] * remaining\n",
    "    return row\n",
    "    \n",
    "train_dataset = train_dataset.map(retokenize)\n",
    "test_dataset = test_dataset.map(retokenize)\n",
    "eval_dataset = eval_dataset.map(retokenize)"
   ]
  },
  {
   "cell_type": "code",
   "execution_count": 6,
   "metadata": {},
   "outputs": [
    {
     "data": {
      "text/plain": [
       "Dataset({\n",
       "    features: ['file_name', 'title', 'tokens', 'math_index', 'nltk_annotate', 'spacy', 'is_valid', 'labels', '__index_level_0__', 'input_ids', 'attention_mask'],\n",
       "    num_rows: 65266\n",
       "})"
      ]
     },
     "execution_count": 6,
     "metadata": {},
     "output_type": "execute_result"
    }
   ],
   "source": [
    "train_dataset"
   ]
  },
  {
   "cell_type": "code",
   "execution_count": 7,
   "metadata": {},
   "outputs": [],
   "source": [
    "metric = evaluate.load('seqeval')\n",
    "def compute_metrics(p, all_metrics=False):\n",
    "    predictions, labels = p\n",
    "    predictions = np.argmax(predictions, axis=2)\n",
    "\n",
    "    true_predictions = [\n",
    "        [lib.id2label[p] for (p, l) in zip(prediction, label) if l != -100]\n",
    "        for prediction, label in zip(predictions, labels)\n",
    "    ]\n",
    "    true_labels = [\n",
    "        [lib.id2label[l] for (p, l) in zip(prediction, label) if l != -100]\n",
    "        for prediction, label in zip(predictions, labels)\n",
    "    ]\n",
    "\n",
    "    results = metric.compute(predictions=true_predictions, references=true_labels)\n",
    "    if all_metrics:\n",
    "        return results\n",
    "\n",
    "    noun = results[\"OUN\"][\"f1\"]\n",
    "    adj = results[\"DJ\"][\"f1\"]\n",
    "\n",
    "    return {\n",
    "        \"precision\": results[\"overall_precision\"],\n",
    "        \"recall\": results[\"overall_recall\"],\n",
    "        \"f1\": results[\"overall_f1\"],\n",
    "        \"accuracy\": results[\"overall_accuracy\"],\n",
    "        \"Noun f1\": results[\"OUN\"][\"f1\"],\n",
    "        \"ADJ f1\": results[\"DJ\"][\"f1\"],\n",
    "        \"Harmonic mean\": (2 * noun * adj) / (noun + adj)\n",
    "    }\n",
    "\n"
   ]
  },
  {
   "cell_type": "code",
   "execution_count": 8,
   "metadata": {},
   "outputs": [
    {
     "name": "stdout",
     "output_type": "stream",
     "text": [
      "Using cuda\n"
     ]
    }
   ],
   "source": [
    "if torch.backends.mps.is_available():\n",
    "    print(\"Using mps\")\n",
    "    mps_device = torch.device(\"mps\")\n",
    "    model.to(mps_device)\n",
    "\n",
    "if torch.cuda.is_available():\n",
    "    print(\"Using cuda\")\n",
    "    cuda_device = torch.device(\"cuda\")\n",
    "    model.to(cuda_device)"
   ]
  },
  {
   "cell_type": "code",
   "execution_count": 9,
   "metadata": {},
   "outputs": [],
   "source": [
    "\n",
    "\n",
    "training_args = TrainingArguments(\n",
    "    output_dir='./results',\n",
    "    num_train_epochs=20,\n",
    "    per_device_train_batch_size=64,\n",
    "    per_device_eval_batch_size=64,\n",
    "    warmup_steps=2000,\n",
    "    weight_decay=0.013,\n",
    "    label_smoothing_factor=0.009,\n",
    "    learning_rate=0.0001,\n",
    "    logging_dir='./logs',\n",
    "    logging_steps=10,\n",
    "    evaluation_strategy='epoch',\n",
    "    load_best_model_at_end=True,\n",
    "    metric_for_best_model='Harmonic mean',\n",
    "    save_strategy='epoch'\n",
    ")\n",
    "\n",
    "trainer = Trainer(\n",
    "    model=model,\n",
    "    args=training_args,\n",
    "    train_dataset=train_dataset,\n",
    "    eval_dataset=test_dataset,\n",
    "    compute_metrics=compute_metrics\n",
    ")"
   ]
  },
  {
   "cell_type": "code",
   "execution_count": 10,
   "metadata": {},
   "outputs": [],
   "source": [
    "import warnings\n",
    "warnings.filterwarnings('ignore')"
   ]
  },
  {
   "cell_type": "code",
   "execution_count": 11,
   "metadata": {},
   "outputs": [
    {
     "name": "stdout",
     "output_type": "stream",
     "text": [
      "Starting training\n"
     ]
    },
    {
     "data": {
      "text/html": [
       "\n",
       "    <div>\n",
       "      \n",
       "      <progress value='20400' max='20400' style='width:300px; height:20px; vertical-align: middle;'></progress>\n",
       "      [20400/20400 34:07:36, Epoch 20/20]\n",
       "    </div>\n",
       "    <table border=\"1\" class=\"dataframe\">\n",
       "  <thead>\n",
       " <tr style=\"text-align: left;\">\n",
       "      <th>Epoch</th>\n",
       "      <th>Training Loss</th>\n",
       "      <th>Validation Loss</th>\n",
       "      <th>Precision</th>\n",
       "      <th>Recall</th>\n",
       "      <th>F1</th>\n",
       "      <th>Accuracy</th>\n",
       "      <th>Noun f1</th>\n",
       "      <th>Adj f1</th>\n",
       "      <th>Harmonic mean</th>\n",
       "    </tr>\n",
       "  </thead>\n",
       "  <tbody>\n",
       "    <tr>\n",
       "      <td>1</td>\n",
       "      <td>0.193500</td>\n",
       "      <td>0.189461</td>\n",
       "      <td>0.948624</td>\n",
       "      <td>0.950986</td>\n",
       "      <td>0.949803</td>\n",
       "      <td>0.960865</td>\n",
       "      <td>0.915634</td>\n",
       "      <td>0.886399</td>\n",
       "      <td>0.900780</td>\n",
       "    </tr>\n",
       "    <tr>\n",
       "      <td>2</td>\n",
       "      <td>0.183100</td>\n",
       "      <td>0.176462</td>\n",
       "      <td>0.955025</td>\n",
       "      <td>0.955563</td>\n",
       "      <td>0.955294</td>\n",
       "      <td>0.965460</td>\n",
       "      <td>0.924982</td>\n",
       "      <td>0.891550</td>\n",
       "      <td>0.907958</td>\n",
       "    </tr>\n",
       "    <tr>\n",
       "      <td>3</td>\n",
       "      <td>0.160100</td>\n",
       "      <td>0.161520</td>\n",
       "      <td>0.961594</td>\n",
       "      <td>0.960753</td>\n",
       "      <td>0.961173</td>\n",
       "      <td>0.970151</td>\n",
       "      <td>0.934155</td>\n",
       "      <td>0.908087</td>\n",
       "      <td>0.920936</td>\n",
       "    </tr>\n",
       "    <tr>\n",
       "      <td>4</td>\n",
       "      <td>0.138200</td>\n",
       "      <td>0.155515</td>\n",
       "      <td>0.965887</td>\n",
       "      <td>0.965897</td>\n",
       "      <td>0.965892</td>\n",
       "      <td>0.973845</td>\n",
       "      <td>0.942194</td>\n",
       "      <td>0.916368</td>\n",
       "      <td>0.929101</td>\n",
       "    </tr>\n",
       "    <tr>\n",
       "      <td>5</td>\n",
       "      <td>0.119200</td>\n",
       "      <td>0.148902</td>\n",
       "      <td>0.970658</td>\n",
       "      <td>0.969799</td>\n",
       "      <td>0.970228</td>\n",
       "      <td>0.977208</td>\n",
       "      <td>0.948699</td>\n",
       "      <td>0.927872</td>\n",
       "      <td>0.938170</td>\n",
       "    </tr>\n",
       "    <tr>\n",
       "      <td>6</td>\n",
       "      <td>0.118500</td>\n",
       "      <td>0.152148</td>\n",
       "      <td>0.971657</td>\n",
       "      <td>0.970489</td>\n",
       "      <td>0.971073</td>\n",
       "      <td>0.977793</td>\n",
       "      <td>0.949601</td>\n",
       "      <td>0.931873</td>\n",
       "      <td>0.940653</td>\n",
       "    </tr>\n",
       "    <tr>\n",
       "      <td>7</td>\n",
       "      <td>0.099800</td>\n",
       "      <td>0.153572</td>\n",
       "      <td>0.973894</td>\n",
       "      <td>0.973655</td>\n",
       "      <td>0.973774</td>\n",
       "      <td>0.979862</td>\n",
       "      <td>0.954629</td>\n",
       "      <td>0.937176</td>\n",
       "      <td>0.945822</td>\n",
       "    </tr>\n",
       "    <tr>\n",
       "      <td>8</td>\n",
       "      <td>0.096400</td>\n",
       "      <td>0.153185</td>\n",
       "      <td>0.974576</td>\n",
       "      <td>0.974815</td>\n",
       "      <td>0.974696</td>\n",
       "      <td>0.980562</td>\n",
       "      <td>0.956370</td>\n",
       "      <td>0.937366</td>\n",
       "      <td>0.946773</td>\n",
       "    </tr>\n",
       "    <tr>\n",
       "      <td>9</td>\n",
       "      <td>0.089900</td>\n",
       "      <td>0.156247</td>\n",
       "      <td>0.975128</td>\n",
       "      <td>0.975368</td>\n",
       "      <td>0.975248</td>\n",
       "      <td>0.981055</td>\n",
       "      <td>0.957055</td>\n",
       "      <td>0.939831</td>\n",
       "      <td>0.948365</td>\n",
       "    </tr>\n",
       "    <tr>\n",
       "      <td>10</td>\n",
       "      <td>0.083500</td>\n",
       "      <td>0.155084</td>\n",
       "      <td>0.976968</td>\n",
       "      <td>0.976288</td>\n",
       "      <td>0.976628</td>\n",
       "      <td>0.982062</td>\n",
       "      <td>0.958942</td>\n",
       "      <td>0.942126</td>\n",
       "      <td>0.950459</td>\n",
       "    </tr>\n",
       "    <tr>\n",
       "      <td>11</td>\n",
       "      <td>0.085200</td>\n",
       "      <td>0.159848</td>\n",
       "      <td>0.976560</td>\n",
       "      <td>0.976365</td>\n",
       "      <td>0.976462</td>\n",
       "      <td>0.981779</td>\n",
       "      <td>0.958647</td>\n",
       "      <td>0.941995</td>\n",
       "      <td>0.950248</td>\n",
       "    </tr>\n",
       "    <tr>\n",
       "      <td>12</td>\n",
       "      <td>0.081600</td>\n",
       "      <td>0.163216</td>\n",
       "      <td>0.976540</td>\n",
       "      <td>0.976585</td>\n",
       "      <td>0.976562</td>\n",
       "      <td>0.981880</td>\n",
       "      <td>0.959204</td>\n",
       "      <td>0.944199</td>\n",
       "      <td>0.951642</td>\n",
       "    </tr>\n",
       "    <tr>\n",
       "      <td>13</td>\n",
       "      <td>0.080500</td>\n",
       "      <td>0.162840</td>\n",
       "      <td>0.977194</td>\n",
       "      <td>0.976339</td>\n",
       "      <td>0.976766</td>\n",
       "      <td>0.982253</td>\n",
       "      <td>0.958557</td>\n",
       "      <td>0.943297</td>\n",
       "      <td>0.950866</td>\n",
       "    </tr>\n",
       "    <tr>\n",
       "      <td>14</td>\n",
       "      <td>0.076200</td>\n",
       "      <td>0.166724</td>\n",
       "      <td>0.976973</td>\n",
       "      <td>0.976523</td>\n",
       "      <td>0.976748</td>\n",
       "      <td>0.982086</td>\n",
       "      <td>0.958495</td>\n",
       "      <td>0.945028</td>\n",
       "      <td>0.951714</td>\n",
       "    </tr>\n",
       "    <tr>\n",
       "      <td>15</td>\n",
       "      <td>0.077500</td>\n",
       "      <td>0.167886</td>\n",
       "      <td>0.977368</td>\n",
       "      <td>0.976968</td>\n",
       "      <td>0.977168</td>\n",
       "      <td>0.982488</td>\n",
       "      <td>0.959484</td>\n",
       "      <td>0.944780</td>\n",
       "      <td>0.952075</td>\n",
       "    </tr>\n",
       "    <tr>\n",
       "      <td>16</td>\n",
       "      <td>0.075400</td>\n",
       "      <td>0.168283</td>\n",
       "      <td>0.977454</td>\n",
       "      <td>0.977249</td>\n",
       "      <td>0.977352</td>\n",
       "      <td>0.982641</td>\n",
       "      <td>0.960238</td>\n",
       "      <td>0.943504</td>\n",
       "      <td>0.951797</td>\n",
       "    </tr>\n",
       "    <tr>\n",
       "      <td>17</td>\n",
       "      <td>0.075000</td>\n",
       "      <td>0.170714</td>\n",
       "      <td>0.977580</td>\n",
       "      <td>0.977275</td>\n",
       "      <td>0.977427</td>\n",
       "      <td>0.982704</td>\n",
       "      <td>0.959741</td>\n",
       "      <td>0.945010</td>\n",
       "      <td>0.952319</td>\n",
       "    </tr>\n",
       "    <tr>\n",
       "      <td>18</td>\n",
       "      <td>0.075300</td>\n",
       "      <td>0.173700</td>\n",
       "      <td>0.977794</td>\n",
       "      <td>0.977464</td>\n",
       "      <td>0.977629</td>\n",
       "      <td>0.982790</td>\n",
       "      <td>0.961382</td>\n",
       "      <td>0.945261</td>\n",
       "      <td>0.953253</td>\n",
       "    </tr>\n",
       "    <tr>\n",
       "      <td>19</td>\n",
       "      <td>0.074700</td>\n",
       "      <td>0.173957</td>\n",
       "      <td>0.977665</td>\n",
       "      <td>0.977510</td>\n",
       "      <td>0.977588</td>\n",
       "      <td>0.982814</td>\n",
       "      <td>0.960986</td>\n",
       "      <td>0.945115</td>\n",
       "      <td>0.952984</td>\n",
       "    </tr>\n",
       "    <tr>\n",
       "      <td>20</td>\n",
       "      <td>0.075300</td>\n",
       "      <td>0.175044</td>\n",
       "      <td>0.977744</td>\n",
       "      <td>0.977674</td>\n",
       "      <td>0.977709</td>\n",
       "      <td>0.982953</td>\n",
       "      <td>0.961050</td>\n",
       "      <td>0.945588</td>\n",
       "      <td>0.953256</td>\n",
       "    </tr>\n",
       "  </tbody>\n",
       "</table><p>"
      ],
      "text/plain": [
       "<IPython.core.display.HTML object>"
      ]
     },
     "metadata": {},
     "output_type": "display_data"
    },
    {
     "name": "stdout",
     "output_type": "stream",
     "text": [
      "Ending training\n"
     ]
    }
   ],
   "source": [
    "print(\"Starting training\")\n",
    "trainer.train()\n",
    "print(\"Ending training\")"
   ]
  },
  {
   "cell_type": "code",
   "execution_count": 12,
   "metadata": {},
   "outputs": [],
   "source": [
    "model.save_pretrained('./trained_bert_model_full_data_large')"
   ]
  },
  {
   "cell_type": "code",
   "execution_count": 13,
   "metadata": {},
   "outputs": [
    {
     "data": {
      "text/html": [],
      "text/plain": [
       "<IPython.core.display.HTML object>"
      ]
     },
     "metadata": {},
     "output_type": "display_data"
    }
   ],
   "source": [
    "predictions = trainer.predict(eval_dataset)\n",
    "\n",
    "model_predictions = predictions.predictions\n",
    "\n",
    "true_label_ids = predictions.label_ids\n",
    "\n",
    "p = (model_predictions, true_label_ids)\n",
    "all_metrics = compute_metrics(p, True)"
   ]
  },
  {
   "cell_type": "code",
   "execution_count": 14,
   "metadata": {},
   "outputs": [
    {
     "data": {
      "text/plain": [
       "{'ART': {'precision': 0.9914015477214101,\n",
       "  'recall': 0.9812765957446808,\n",
       "  'f1': 0.9863130881094953,\n",
       "  'number': 1175},\n",
       " 'CONJ': {'precision': 0.991674595623216,\n",
       "  'recall': 0.9959388437649307,\n",
       "  'f1': 0.9938021454112037,\n",
       "  'number': 4186},\n",
       " 'DJ': {'precision': 0.9389877513288652,\n",
       "  'recall': 0.9491881789510571,\n",
       "  'f1': 0.9440604124310195,\n",
       "  'number': 8561},\n",
       " 'DP': {'precision': 0.9952171791117619,\n",
       "  'recall': 0.9970663015841972,\n",
       "  'f1': 0.9961408822236334,\n",
       "  'number': 10226},\n",
       " 'DV': {'precision': 0.9843798812870977,\n",
       "  'recall': 0.9788754271512892,\n",
       "  'f1': 0.981619937694704,\n",
       "  'number': 3219},\n",
       " 'ERB': {'precision': 0.982302945628129,\n",
       "  'recall': 0.9799070847851336,\n",
       "  'f1': 0.981103552532124,\n",
       "  'number': 8610},\n",
       " 'ET': {'precision': 0.9989762489762489,\n",
       "  'recall': 0.9992831541218637,\n",
       "  'f1': 0.9991296779808528,\n",
       "  'number': 9765},\n",
       " 'NTJ': {'precision': 0.921875,\n",
       "  'recall': 0.8676470588235294,\n",
       "  'f1': 0.893939393939394,\n",
       "  'number': 68},\n",
       " 'OUN': {'precision': 0.9594136246047715,\n",
       "  'recall': 0.9620683691704618,\n",
       "  'f1': 0.9607391629727708,\n",
       "  'number': 17347},\n",
       " 'RON': {'precision': 0.993485342019544,\n",
       "  'recall': 0.9890919811320755,\n",
       "  'f1': 0.9912837937656965,\n",
       "  'number': 3392},\n",
       " 'ROPN': {'precision': 0.8120672601384767,\n",
       "  'recall': 0.7630111524163569,\n",
       "  'f1': 0.7867752755150934,\n",
       "  'number': 1076},\n",
       " 'UM': {'precision': 0.9605809128630706,\n",
       "  'recall': 0.9516957862281603,\n",
       "  'f1': 0.95611770779556,\n",
       "  'number': 973},\n",
       " 'UNCT': {'precision': 0.99852273926348,\n",
       "  'recall': 0.9979962033326303,\n",
       "  'f1': 0.9982594018671871,\n",
       "  'number': 9482},\n",
       " 'UX': {'precision': 0.9987450324199958,\n",
       "  'recall': 0.9960367125573634,\n",
       "  'f1': 0.9973890339425587,\n",
       "  'number': 4794},\n",
       " 'YM': {'precision': 0.8, 'recall': 1.0, 'f1': 0.888888888888889, 'number': 8},\n",
       " '_': {'precision': 0.9033333333333333,\n",
       "  'recall': 0.8364197530864198,\n",
       "  'f1': 0.8685897435897437,\n",
       "  'number': 324},\n",
       " 'overall_precision': 0.9778133000012019,\n",
       " 'overall_recall': 0.9777780448525347,\n",
       " 'overall_f1': 0.9777956721090807,\n",
       " 'overall_accuracy': 0.9829532651313714}"
      ]
     },
     "execution_count": 14,
     "metadata": {},
     "output_type": "execute_result"
    }
   ],
   "source": [
    "all_metrics"
   ]
  },
  {
   "cell_type": "code",
   "execution_count": null,
   "metadata": {},
   "outputs": [],
   "source": []
  }
 ],
 "metadata": {
  "kernelspec": {
   "display_name": "Python 3 (ipykernel)",
   "language": "python",
   "name": "python3"
  },
  "language_info": {
   "codemirror_mode": {
    "name": "ipython",
    "version": 3
   },
   "file_extension": ".py",
   "mimetype": "text/x-python",
   "name": "python",
   "nbconvert_exporter": "python",
   "pygments_lexer": "ipython3",
   "version": "3.10.4"
  }
 },
 "nbformat": 4,
 "nbformat_minor": 1
}
